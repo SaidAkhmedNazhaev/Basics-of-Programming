{
  "cells": [
    {
      "cell_type": "markdown",
      "metadata": {
        "id": "view-in-github",
        "colab_type": "text"
      },
      "source": [
        "<a href=\"https://colab.research.google.com/github/SaidAkhmedNazhaev/Basics-of-Programming/blob/main/tesk_4.ipynb\" target=\"_parent\"><img src=\"https://colab.research.google.com/assets/colab-badge.svg\" alt=\"Open In Colab\"/></a>"
      ]
    },
    {
      "cell_type": "markdown",
      "source": [
        "№1."
      ],
      "metadata": {
        "id": "LRU8jRgN_Z5B"
      }
    },
    {
      "cell_type": "markdown",
      "source": [
        "![2.png](data:image/png;base64,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)"
      ],
      "metadata": {
        "id": "niQcLjTxDYIr"
      }
    },
    {
      "cell_type": "code",
      "source": [
        "x = int(input())\n",
        "\n",
        "if x >= 0:\n",
        "    f = (x**(1/2))+(x**2)\n",
        "else:\n",
        "    f = 1/x\n",
        "\n",
        "print('Получившийся результат:', round(f, 2))"
      ],
      "metadata": {
        "colab": {
          "base_uri": "https://localhost:8080/"
        },
        "id": "W60SjWnf_fSV",
        "outputId": "26eeedcb-a080-4241-f7ad-5b95eec4b2f8"
      },
      "execution_count": 5,
      "outputs": [
        {
          "output_type": "stream",
          "name": "stdout",
          "text": [
            "9\n",
            "Получившийся результат: 84.0\n"
          ]
        }
      ]
    },
    {
      "cell_type": "markdown",
      "source": [
        "№2."
      ],
      "metadata": {
        "id": "tX4p0fh8_fo1"
      }
    },
    {
      "cell_type": "code",
      "source": [
        "a1 = int(input('Введите первое целое число.'))\n",
        "a2 = int(input('Введите второе целое число.'))\n",
        "\n",
        "if a1 == a2:\n",
        "    print('Числа одинаковы.')\n",
        "else:\n",
        "    if a1 > a2:\n",
        "        print('Максимум:', a1, 'Минимум:', a2)\n",
        "    else:\n",
        "        print('Максимум:', a2, 'Минимум:', a1)"
      ],
      "metadata": {
        "colab": {
          "base_uri": "https://localhost:8080/"
        },
        "id": "XO-Fuxgq_kmk",
        "outputId": "c0aedc80-e974-4785-fc16-2864da051c36"
      },
      "execution_count": 6,
      "outputs": [
        {
          "output_type": "stream",
          "name": "stdout",
          "text": [
            "Введите первое целое число.9\n",
            "Введите второе целое число.9\n",
            "Числа одинаковы.\n"
          ]
        }
      ]
    },
    {
      "cell_type": "markdown",
      "source": [
        "№3."
      ],
      "metadata": {
        "id": "ROjBrirN_k5u"
      }
    },
    {
      "cell_type": "code",
      "source": [
        "a = int(input('Введите значение ширины форточки:'))\n",
        "h = int(input('Введите значение высоты форточки:'))\n",
        "d = int(input('Введите значение диаметра головы мальчика:'))\n",
        "\n",
        "if ((a or h or d) < 0):\n",
        "    print('Ошибка. Невозможно выполнить скрипт. Вы ввели отрицательное значение.')\n",
        "else:\n",
        "    if ((a - 1 >= d) and (h - 1 >= d)):\n",
        "        print('Да.')\n",
        "    else:\n",
        "        print('Нет.')"
      ],
      "metadata": {
        "colab": {
          "base_uri": "https://localhost:8080/"
        },
        "id": "j8pe-yCF_nkn",
        "outputId": "d7af4dd6-fbef-4d49-ef5c-debbeb307adc"
      },
      "execution_count": 8,
      "outputs": [
        {
          "output_type": "stream",
          "name": "stdout",
          "text": [
            "Введите значение ширины форточки:99\n",
            "Введите значение высоты форточки:999\n",
            "Введите значение диаметра головы мальчика:99\n",
            "Нет.\n"
          ]
        }
      ]
    },
    {
      "cell_type": "markdown",
      "source": [
        "4"
      ],
      "metadata": {
        "id": "nIYusiPo_oD6"
      }
    },
    {
      "cell_type": "code",
      "source": [
        "y_today = int(input('Введите текущий год:'))\n",
        "m_today = int(input('Введите текущий месяц:'))\n",
        "\n",
        "y_need = int(input('Введите год рождения:'))\n",
        "m_need = int(input('Введите месяц рождения:'))\n",
        "\n",
        "age = y_today - y_need\n",
        "\n",
        "if (m_today or m_need) <= 0:\n",
        "    print('Невозможно выполнить скрипт.')\n",
        "else:\n",
        "    if m_need > m_today:\n",
        "        print('Число полных лет:', age-1)\n",
        "    else:\n",
        "        print('Число полных лет:', age)"
      ],
      "metadata": {
        "colab": {
          "base_uri": "https://localhost:8080/"
        },
        "id": "OXWlLXyT_pXq",
        "outputId": "1a0239b5-8581-4066-ca10-9f1327183c68"
      },
      "execution_count": 9,
      "outputs": [
        {
          "output_type": "stream",
          "name": "stdout",
          "text": [
            "Введите текущий год:2022\n",
            "Введите текущий месяц:9\n",
            "Введите год рождения:2002\n",
            "Введите месяц рождения:6\n",
            "Число полных лет: 20\n"
          ]
        }
      ]
    },
    {
      "cell_type": "markdown",
      "source": [
        "5"
      ],
      "metadata": {
        "id": "TO2YL2Av_plU"
      }
    },
    {
      "cell_type": "code",
      "source": [
        "x = int(input('Введите значение x:'))\n",
        "y = int(input('Введите значение y:'))\n",
        "\n",
        "if (x > 0 and y > 0):\n",
        "    print('Точка находится в 1-й четверти.')\n",
        "elif (x < 0 and y > 0):\n",
        "    print('Точка находится во 2-й четверти.')\n",
        "elif (x < 0 and y < 0):\n",
        "    print('Точка находится в 3-й четверти.')\n",
        "elif (x > 0 and y < 0):\n",
        "    print('Точка находится в 4-й четверти.')\n",
        "elif (x == 0 and y == 0):\n",
        "    print('Точка находится на пересечении осей x и y.')\n",
        "elif x == 0:\n",
        "    print('Точка находится на оси x.')\n",
        "elif y == 0:\n",
        "    print('Точка находится на оси y.')"
      ],
      "metadata": {
        "colab": {
          "base_uri": "https://localhost:8080/"
        },
        "id": "-pfyKaj-_qYS",
        "outputId": "5e072559-d0b6-4a93-d2ae-e214756b7803"
      },
      "execution_count": 10,
      "outputs": [
        {
          "output_type": "stream",
          "name": "stdout",
          "text": [
            "Введите значение x:9\n",
            "Введите значение y:9\n",
            "Точка находится в 1-й четверти.\n"
          ]
        }
      ]
    },
    {
      "cell_type": "markdown",
      "source": [
        "6"
      ],
      "metadata": {
        "id": "UY3v4Ttd_qoy"
      }
    },
    {
      "cell_type": "code",
      "source": [
        "a = float(input('Введите значение a:'))\n",
        "b = float(input('Введите значение b:'))\n",
        "c = float(input('Введите значение c:'))\n",
        "\n",
        "d = ((b ** 2) - (4 * a * c))\n",
        "if d < 0:\n",
        "    print('Нет решения.')\n",
        "elif d == 0:\n",
        "    x1 = (( -1 * b) / 2 * a)\n",
        "    print('x =', x1)\n",
        "elif d > 0:\n",
        "    x2 = (((-1 * b) + (d ** (1 / 2))) / 2 * a)\n",
        "    x1 = (((-1 * b) - (d ** (1 / 2))) / 2 * a)\n",
        "    print('x1 =',x1,'x2 =',x2)"
      ],
      "metadata": {
        "colab": {
          "base_uri": "https://localhost:8080/"
        },
        "id": "f99sB-RC_rup",
        "outputId": "8cb7371d-0382-477f-ffb5-0935b3ea2f34"
      },
      "execution_count": 13,
      "outputs": [
        {
          "output_type": "stream",
          "name": "stdout",
          "text": [
            "Введите значение a:6.9\n",
            "Введите значение b:9.9\n",
            "Введите значение c:9.6\n",
            "Нет решения.\n"
          ]
        }
      ]
    },
    {
      "cell_type": "markdown",
      "source": [
        "7"
      ],
      "metadata": {
        "id": "347_46Cw_r2S"
      }
    },
    {
      "cell_type": "code",
      "source": [
        "x = int(input('Введите первое целое число:'))\n",
        "n = list()\n",
        "\n",
        "while x != 0:\n",
        "    n.append(x)\n",
        "    x = int(input('Введите дополнительное число:'))\n",
        "\n",
        "print('Количество = ', len(n))\n",
        "print('Сумма = ',sum(n))"
      ],
      "metadata": {
        "colab": {
          "base_uri": "https://localhost:8080/"
        },
        "id": "RCBNDndT_sbN",
        "outputId": "8d5e10a6-63e1-49ed-cc73-2d35de7ef80f"
      },
      "execution_count": 16,
      "outputs": [
        {
          "output_type": "stream",
          "name": "stdout",
          "text": [
            "Введите первое целое число:9\n",
            "Введите дополнительное число:9\n",
            "Введите дополнительное число:9\n",
            "Введите дополнительное число:0\n",
            "Количество =  3\n",
            "Сумма =  27\n"
          ]
        }
      ]
    },
    {
      "cell_type": "markdown",
      "source": [
        "8"
      ],
      "metadata": {
        "id": "92VHR2nL_sxn"
      }
    },
    {
      "cell_type": "code",
      "source": [
        "n = int(input('Введите число n: '))\n",
        "\n",
        "g = 0\n",
        "print('0')\n",
        "\n",
        "while g<=n:\n",
        "    g = g+5\n",
        "    if g<n:\n",
        "      print(g)\n",
        "    else:\n",
        "      break"
      ],
      "metadata": {
        "colab": {
          "base_uri": "https://localhost:8080/"
        },
        "id": "6ggpD0_j_tUK",
        "outputId": "0693b49c-88f9-4aa4-9916-97f55cb282b1"
      },
      "execution_count": 17,
      "outputs": [
        {
          "output_type": "stream",
          "name": "stdout",
          "text": [
            "Введите число n: 9\n",
            "0\n",
            "5\n"
          ]
        }
      ]
    },
    {
      "cell_type": "markdown",
      "source": [
        "9"
      ],
      "metadata": {
        "id": "Ey8VPfyK_tkt"
      }
    },
    {
      "cell_type": "markdown",
      "source": [
        "![3.png](data:image/png;base64,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)"
      ],
      "metadata": {
        "id": "6YSYmqGMDjWh"
      }
    },
    {
      "cell_type": "code",
      "source": [
        "a = float(input('Введите вещественное число: '))\n",
        "\n",
        "n = 1\n",
        "x_sum = list()\n",
        "x_sum.append(n)\n",
        "\n",
        "while sum(x_sum)<=a:\n",
        "    n = n+1\n",
        "    g = 1/n\n",
        "    x_sum.append(g)\n",
        "\n",
        "print(n)"
      ],
      "metadata": {
        "colab": {
          "base_uri": "https://localhost:8080/"
        },
        "id": "18-EhlBt_uN4",
        "outputId": "479bf496-c1b5-4a44-b7d9-fda2263b328a"
      },
      "execution_count": 19,
      "outputs": [
        {
          "output_type": "stream",
          "name": "stdout",
          "text": [
            "Введите вещественное число: 9.9\n",
            "11190\n"
          ]
        }
      ]
    },
    {
      "cell_type": "markdown",
      "source": [
        "10"
      ],
      "metadata": {
        "id": "CKN2dd24_ul7"
      }
    },
    {
      "cell_type": "code",
      "source": [
        "n = list(map(int, input('Введите целое натуральное число: ')))\n",
        "\n",
        "n_sum = sum(n)\n",
        "n_count = len(n)\n",
        "\n",
        "print('Сумма: ', n_sum)\n",
        "print('Количество: ', n_count)"
      ],
      "metadata": {
        "colab": {
          "base_uri": "https://localhost:8080/"
        },
        "id": "TlzNdW3l_vgD",
        "outputId": "638a2611-115c-4ff5-c841-914f0697f73f"
      },
      "execution_count": 20,
      "outputs": [
        {
          "output_type": "stream",
          "name": "stdout",
          "text": [
            "Введите целое натуральное число: 9\n",
            "Сумма:  9\n",
            "Количество:  1\n"
          ]
        }
      ]
    },
    {
      "cell_type": "markdown",
      "source": [
        "11"
      ],
      "metadata": {
        "id": "qdjuhP1R_vvB"
      }
    },
    {
      "cell_type": "code",
      "source": [
        "start = int(input('Введите значение левой границы: '))\n",
        "k = int(input('Введите цифру, на которую будут заканчиваться числа: '))\n",
        "s = int(input('Введите цифру, которой будут кратны числа: '))\n",
        "\n",
        "need = list()\n",
        "\n",
        "while start%s!=0:\n",
        "    start += 1\n",
        "else:\n",
        "    for x in range(99):\n",
        "        start += 1\n",
        "        while start%s!=0:\n",
        "            start += 1\n",
        "        else:\n",
        "            if start%10==k:\n",
        "                need.append(start)\n",
        "\n",
        "print(need[:10])"
      ],
      "metadata": {
        "colab": {
          "base_uri": "https://localhost:8080/"
        },
        "id": "nI9mqQhG_wqo",
        "outputId": "90aff9a9-32e1-4636-b89c-94dc9176ed41"
      },
      "execution_count": 26,
      "outputs": [
        {
          "output_type": "stream",
          "name": "stdout",
          "text": [
            "Введите значение левой границы: 99\n",
            "Введите цифру, на которую будут заканчиваться числа: 9\n",
            "Введите цифру, которой будут кратны числа: 9\n",
            "[189, 279, 369, 459, 549, 639, 729, 819, 909]\n"
          ]
        }
      ]
    },
    {
      "cell_type": "markdown",
      "source": [
        "12"
      ],
      "metadata": {
        "id": "X7dbkDd7_w1S"
      }
    },
    {
      "cell_type": "code",
      "source": [
        "a = int(input('Введите первое число: '))\n",
        "b = int(input('Введите второе число: '))\n",
        "\n",
        "ls = list(range(a,b+1,1))\n",
        "print(ls)\n",
        "\n",
        "ls.reverse()\n",
        "print(\"\\n\".join(map(str, ls)))"
      ],
      "metadata": {
        "colab": {
          "base_uri": "https://localhost:8080/"
        },
        "id": "UB5cjF_a_xjv",
        "outputId": "bce8454f-5edc-4ba2-aae6-9d5bfa8b3af8"
      },
      "execution_count": 27,
      "outputs": [
        {
          "output_type": "stream",
          "name": "stdout",
          "text": [
            "Введите первое число: 9\n",
            "Введите второе число: 9\n",
            "[9]\n",
            "9\n"
          ]
        }
      ]
    },
    {
      "cell_type": "markdown",
      "source": [
        "13"
      ],
      "metadata": {
        "id": "pjM5UIOQ_xr3"
      }
    },
    {
      "cell_type": "code",
      "source": [
        "a = int(input('Введите первое число: '))\n",
        "b = int(input('Введите второе число: '))\n",
        "\n",
        "ls = list(range(a,b+1,1))\n",
        "n_sum = sum(ls)\n",
        "\n",
        "n_mult = 1\n",
        "a = 0\n",
        "while a<len(ls):\n",
        "    n_mult = n_mult*ls[a]\n",
        "    a += 1\n",
        "\n",
        "n_avg = n_sum/len(ls)\n",
        "\n",
        "print(\"Сумма = \", n_sum)\n",
        "print(\"Произведение = \", n_mult)\n",
        "print(\"Среднее арифметическое = \", n_avg)\n",
        "\n",
        "b = 0\n",
        "c = 0\n",
        "n_avg_geom = 1\n",
        "while b<len(ls):\n",
        "    if ls[b]%2==1:\n",
        "        n_avg_geom = n_avg_geom*ls[b]\n",
        "        b += 2\n",
        "        c += 1\n",
        "    else:\n",
        "        b += 1\n",
        "\n",
        "\n",
        "n_avg_geom = round((n_avg_geom**(1/c)),2)\n",
        "\n",
        "print(\"Среднее геометрическое нечетных чисел = \", n_avg_geom)"
      ],
      "metadata": {
        "colab": {
          "base_uri": "https://localhost:8080/"
        },
        "id": "QJwPpw8o_zPh",
        "outputId": "fa3230c5-a57c-4879-98fd-1f78d6e46ebb"
      },
      "execution_count": 28,
      "outputs": [
        {
          "output_type": "stream",
          "name": "stdout",
          "text": [
            "Введите первое число: 9\n",
            "Введите второе число: 9\n",
            "Сумма =  9\n",
            "Произведение =  9\n",
            "Среднее арифметическое =  9.0\n",
            "Среднее геометрическое нечетных чисел =  9.0\n"
          ]
        }
      ]
    },
    {
      "cell_type": "markdown",
      "source": [
        "14"
      ],
      "metadata": {
        "id": "mNuBX9X-_zYM"
      }
    },
    {
      "cell_type": "code",
      "source": [
        "s = float(input('Введите кол-во км в первый день: '))\n",
        "p = float(input('Введите процент увеличения нагрузки: '))\n",
        "\n",
        "tot = list()\n",
        "tot.append(s)\n",
        "\n",
        "g = 0\n",
        "f = 1\n",
        "for x in range(9):\n",
        "    s = ((s*(p/100))+s)+0.0001\n",
        "    f += 1\n",
        "    tot.append(s)\n",
        "    print('Пробег за',f,'день: ', round(s,1), 'км.')\n",
        "\n",
        "total = sum(tot)\n",
        "print(\"Суммарный пробег: \", round(total,1))"
      ],
      "metadata": {
        "colab": {
          "base_uri": "https://localhost:8080/"
        },
        "id": "LU6N3Lkq_0Bf",
        "outputId": "3fe1fbf7-0994-49a6-86a3-9cb2a4b6a89f"
      },
      "execution_count": 29,
      "outputs": [
        {
          "output_type": "stream",
          "name": "stdout",
          "text": [
            "Введите кол-во км в первый день: 9.9\n",
            "Введите процент увеличения нагрузки: 9.9\n",
            "Пробег за 2 день:  10.9 км.\n",
            "Пробег за 3 день:  12.0 км.\n",
            "Пробег за 4 день:  13.1 км.\n",
            "Пробег за 5 день:  14.4 км.\n",
            "Пробег за 6 день:  15.9 км.\n",
            "Пробег за 7 день:  17.4 км.\n",
            "Пробег за 8 день:  19.2 км.\n",
            "Пробег за 9 день:  21.1 км.\n",
            "Пробег за 10 день:  23.2 км.\n",
            "Суммарный пробег:  157.0\n"
          ]
        }
      ]
    },
    {
      "cell_type": "markdown",
      "source": [
        "15"
      ],
      "metadata": {
        "id": "yeLppSlK_1on"
      }
    },
    {
      "cell_type": "code",
      "source": [
        "p = int(input('Введите грузоподъемность грузовика (кг.): '))\n",
        "n = int(input('Введите количество предметов (шт.): '))\n",
        "\n",
        "amount = list()\n",
        "\n",
        "for x in range(n):\n",
        "    f = int(input('Введите массу предмета (кг.):'))\n",
        "    amount.append(f)\n",
        "\n",
        "if sum(amount)>=p:\n",
        "    print('Нет.')\n",
        "else:\n",
        "    print('Да.')"
      ],
      "metadata": {
        "colab": {
          "base_uri": "https://localhost:8080/"
        },
        "id": "_6ZkLySZ_2Rl",
        "outputId": "929b8917-ac37-45b6-96eb-7130630d24e4"
      },
      "execution_count": 31,
      "outputs": [
        {
          "output_type": "stream",
          "name": "stdout",
          "text": [
            "Введите грузоподъемность грузовика (кг.): 10\n",
            "Введите количество предметов (шт.): 2\n",
            "Введите массу предмета (кг.):3\n",
            "Введите массу предмета (кг.):3\n",
            "Да.\n"
          ]
        }
      ]
    },
    {
      "cell_type": "markdown",
      "source": [
        "16"
      ],
      "metadata": {
        "id": "v1gNQalL_2Zt"
      }
    },
    {
      "cell_type": "code",
      "source": [
        "n = int(input('Введите количество районов: '))\n",
        "\n",
        "total = list()\n",
        "for x in range(n):\n",
        "    s = float(input('Введите площадь района (га): '))\n",
        "    p = float(input('Введите урожайность в районе (ц/га.): ')) \n",
        "    g = p*s\n",
        "    total.append(g)\n",
        "\n",
        "print(round(sum(total), 1))"
      ],
      "metadata": {
        "colab": {
          "base_uri": "https://localhost:8080/"
        },
        "id": "fUDBkcGb_2-x",
        "outputId": "0a239637-9924-4293-d8c2-fb7ec030f15e"
      },
      "execution_count": 33,
      "outputs": [
        {
          "output_type": "stream",
          "name": "stdout",
          "text": [
            "Введите количество районов: 3\n",
            "Введите площадь района (га): 2\n",
            "Введите урожайность в районе (ц/га.): 4\n",
            "Введите площадь района (га): 5\n",
            "Введите урожайность в районе (ц/га.): 2\n",
            "Введите площадь района (га): 1\n",
            "Введите урожайность в районе (ц/га.): 6\n",
            "24.0\n"
          ]
        }
      ]
    },
    {
      "cell_type": "markdown",
      "source": [
        "17"
      ],
      "metadata": {
        "id": "eGKU0zAg_3Gj"
      }
    },
    {
      "cell_type": "code",
      "source": [
        "nums_sum = 0\n",
        "nums_count = 0\n",
        "\n",
        "x = int(input('Введите число. '))\n",
        "a = list()\n",
        "\n",
        "while x!=0:\n",
        "    nums_count = nums_count+1\n",
        "    a.append(x)\n",
        "    nums_sum = nums_sum+x\n",
        "    x = int(input('Введите новое число. '))\n",
        "    if x==0:\n",
        "        break\n",
        "\n",
        "print('Сумма = ', nums_sum)\n",
        "print('Количество = ',nums_count)"
      ],
      "metadata": {
        "colab": {
          "base_uri": "https://localhost:8080/"
        },
        "id": "RsgtvD5e_3p-",
        "outputId": "505aefd7-7070-46ee-85fb-9349fcab6af6"
      },
      "execution_count": 35,
      "outputs": [
        {
          "output_type": "stream",
          "name": "stdout",
          "text": [
            "Введите число. 9\n",
            "Введите новое число. 9\n",
            "Введите новое число. 9\n",
            "Введите новое число. 0\n",
            "Сумма =  27\n",
            "Количество =  3\n"
          ]
        }
      ]
    },
    {
      "cell_type": "markdown",
      "source": [
        "18"
      ],
      "metadata": {
        "id": "pkMsuXNq_3zn"
      }
    },
    {
      "cell_type": "code",
      "source": [
        "sentence = input('Введите предложение: ')\n",
        "\n",
        "gl = 0\n",
        "sogl = 0\n",
        "probel = 0\n",
        "\n",
        "for x in sentence:\n",
        "    sth = x.lower()\n",
        "    if sth == \"а\" or sth == \"я\" or sth == \"у\" or\\\n",
        "      sth == \"ю\" or sth == \"о\" or sth == \"е\" or\\\n",
        "      sth == \"ё\" or sth == \"э\" or sth == \"и\" or\\\n",
        "      sth == \"ы\":\n",
        "      gl += 1\n",
        "    elif sth == \" \":\n",
        "      probel += 1\n",
        "    else:\n",
        "      sogl += 1\n",
        "\n",
        "s1 = \"Гласных\"\n",
        "s2 = \"Согласных\"\n",
        "print('Кол-во букв в предложении: ', \"{} {}, {} {}\".format(s1, gl, s2, sogl))"
      ],
      "metadata": {
        "colab": {
          "base_uri": "https://localhost:8080/"
        },
        "id": "iMmHaip5_4dj",
        "outputId": "0fdaac5e-d13f-4b81-e198-a27e6e9fff6d"
      },
      "execution_count": 37,
      "outputs": [
        {
          "output_type": "stream",
          "name": "stdout",
          "text": [
            "Введите предложение: Да я программист.\n",
            "Кол-во букв в предложении:  Гласных 5, Согласных 10\n"
          ]
        }
      ]
    },
    {
      "cell_type": "markdown",
      "source": [
        "19"
      ],
      "metadata": {
        "id": "KJVSezJe_4rb"
      }
    },
    {
      "cell_type": "code",
      "source": [
        "a = int(input(\"Введите первое число: \"))\n",
        "b = int(input(\"Введите второе число: \"))\n",
        "c = int(input(\"Введите третье число: \"))\n",
        "\n",
        "g = list()\n",
        "\n",
        "for y in range(a,b+1):\n",
        "    if y%c==0:\n",
        "        g.append(y)\n",
        "\n",
        "print(g)"
      ],
      "metadata": {
        "colab": {
          "base_uri": "https://localhost:8080/"
        },
        "id": "RRgA4loD_5rB",
        "outputId": "013ef574-d56f-40df-835c-ef5022ba4403"
      },
      "execution_count": 38,
      "outputs": [
        {
          "output_type": "stream",
          "name": "stdout",
          "text": [
            "Введите первое число: 9\n",
            "Введите второе число: 9\n",
            "Введите третье число: 9\n",
            "[9]\n"
          ]
        }
      ]
    },
    {
      "cell_type": "markdown",
      "source": [
        "20"
      ],
      "metadata": {
        "id": "4JVVclFw_5_b"
      }
    },
    {
      "cell_type": "code",
      "source": [
        "n = int(input('Введите число: '))\n",
        "\n",
        "g = list()\n",
        "\n",
        "for x in range(100, 1000):\n",
        "    a = sum(int(e) for e in str(x))\n",
        "    if a==n:\n",
        "        g.append(x)\n",
        "\n",
        "print(g)"
      ],
      "metadata": {
        "colab": {
          "base_uri": "https://localhost:8080/"
        },
        "id": "ikkFQTfn_7Bh",
        "outputId": "9b3ac602-d2fb-4b11-c4ac-a6a919a887fd"
      },
      "execution_count": 39,
      "outputs": [
        {
          "output_type": "stream",
          "name": "stdout",
          "text": [
            "Введите число: 9\n",
            "[108, 117, 126, 135, 144, 153, 162, 171, 180, 207, 216, 225, 234, 243, 252, 261, 270, 306, 315, 324, 333, 342, 351, 360, 405, 414, 423, 432, 441, 450, 504, 513, 522, 531, 540, 603, 612, 621, 630, 702, 711, 720, 801, 810, 900]\n"
          ]
        }
      ]
    },
    {
      "cell_type": "markdown",
      "source": [
        "21"
      ],
      "metadata": {
        "id": "OkA3iiWt_7JL"
      }
    },
    {
      "cell_type": "code",
      "source": [
        "n = int(input('Введите количество учеников: '))\n",
        "\n",
        "a = 0\n",
        "b = 0\n",
        "c = 0\n",
        "f = 1\n",
        "\n",
        "for x in range(n):\n",
        "    rost = int(input('Введите значение роста ученика: '))\n",
        "    f += 1\n",
        "    if rost<0:\n",
        "        a += 1\n",
        "        b -= rost\n",
        "    else:\n",
        "        c += rost\n",
        "\n",
        "r_sr_m = b / a\n",
        "r_sr_d = c / (n - a)\n",
        "\n",
        "print(\"Средний рост мальчиков: {:.1f}\".format(r_sr_m))\n",
        "print(\"Средний рост девочек: {:.1f}\".format(r_sr_d))"
      ],
      "metadata": {
        "colab": {
          "base_uri": "https://localhost:8080/"
        },
        "id": "vttjhnwY_7-x",
        "outputId": "ed414389-7afd-4964-e698-3c46cd0705a2"
      },
      "execution_count": 43,
      "outputs": [
        {
          "output_type": "stream",
          "name": "stdout",
          "text": [
            "Введите количество учеников: 3\n",
            "Введите значение роста ученика: 150\n",
            "Введите значение роста ученика: -150\n",
            "Введите значение роста ученика: 169\n",
            "Средний рост мальчиков: 150.0\n",
            "Средний рост девочек: 159.5\n"
          ]
        }
      ]
    },
    {
      "cell_type": "markdown",
      "source": [
        "22"
      ],
      "metadata": {
        "id": "ovWpae07_8Gx"
      }
    },
    {
      "cell_type": "code",
      "source": [
        "n = int(input('Введите значение целого числа: '))\n",
        "\n",
        "g = list()\n",
        "\n",
        "for x in range(n):\n",
        "    a = float(input('Введите значение вещественного числа: '))\n",
        "    g.append(a)\n",
        "\n",
        "f = max(g)\n",
        "k = min(g)\n",
        "\n",
        "print(\"Максимум: {:.2f}\".format(f))\n",
        "print(\"Минимум: {:.2f}\".format(k))"
      ],
      "metadata": {
        "colab": {
          "base_uri": "https://localhost:8080/"
        },
        "id": "OM7x6tDU_8kl",
        "outputId": "a054226c-c611-4062-96e7-d58a5b88abb4"
      },
      "execution_count": 49,
      "outputs": [
        {
          "output_type": "stream",
          "name": "stdout",
          "text": [
            "Введите значение целого числа: 3\n",
            "Введите значение вещественного числа: 3.3\n",
            "Введите значение вещественного числа: 6.6\n",
            "Введите значение вещественного числа: 9.9\n",
            "Максимум: 9.90\n",
            "Минимум: 3.30\n"
          ]
        }
      ]
    },
    {
      "cell_type": "markdown",
      "source": [
        "23"
      ],
      "metadata": {
        "id": "OIsc7Nyf_8tt"
      }
    },
    {
      "cell_type": "code",
      "source": [
        "n = int(input('Введите значение предполагаемого числа: '))\n",
        "\n",
        "f1 = 1\n",
        "f2 = 1\n",
        "k = 1\n",
        "\n",
        "while n!=f1:\n",
        "    if n<f1:\n",
        "        print('Не является.')\n",
        "        break\n",
        "    else:\n",
        "        k = f1\n",
        "        f1 += f2\n",
        "        f2 = k\n",
        "else:\n",
        "    print('Является.')"
      ],
      "metadata": {
        "colab": {
          "base_uri": "https://localhost:8080/"
        },
        "id": "zdxKMxCB_9Y5",
        "outputId": "5d4b082a-4586-474e-c61a-0b1380c286b3"
      },
      "execution_count": 50,
      "outputs": [
        {
          "output_type": "stream",
          "name": "stdout",
          "text": [
            "Введите значение предполагаемого числа: 9\n",
            "Не является.\n"
          ]
        }
      ]
    },
    {
      "cell_type": "markdown",
      "source": [
        "24"
      ],
      "metadata": {
        "id": "UklA1FYE_9kc"
      }
    },
    {
      "cell_type": "code",
      "source": [
        "n = int(input('Введите количество чисел: '))\n",
        "g = []\n",
        "\n",
        "for x in range(1, n+1):\n",
        "  a = float(input(f'{x}-е число = '))\n",
        "  g.append(a)\n",
        "\n",
        "f = bool()\n",
        "for x in range(1,n):\n",
        "  if g[x-1] >=g[x]:\n",
        "    f = False\n",
        "    break\n",
        "  else:\n",
        "    f = True\n",
        "if f == True:\n",
        "  print('Является')\n",
        "else:\n",
        "  print(x)"
      ],
      "metadata": {
        "colab": {
          "base_uri": "https://localhost:8080/"
        },
        "id": "-r7_9a2c_-Hf",
        "outputId": "ccf1551c-806d-4958-ba41-ad852822545e"
      },
      "execution_count": 51,
      "outputs": [
        {
          "output_type": "stream",
          "name": "stdout",
          "text": [
            "Введите количество чисел: 3\n",
            "1-е число = 3\n",
            "2-е число = 6\n",
            "3-е число = 9\n",
            "Является\n"
          ]
        }
      ]
    },
    {
      "cell_type": "markdown",
      "source": [
        "25"
      ],
      "metadata": {
        "id": "dSeB0uFn_-TQ"
      }
    },
    {
      "cell_type": "code",
      "source": [
        "n = int(input('Введите целое число: '))\n",
        "\n",
        "for x in range(1, n+1):\n",
        "    for y in range(1, n+1):\n",
        "        print(f'{x} * {y} = {x * y}\\t', end=' ')\n",
        "    print('')"
      ],
      "metadata": {
        "colab": {
          "base_uri": "https://localhost:8080/"
        },
        "id": "ktkogHyD_-59",
        "outputId": "3cfc561e-1b1b-49a9-922c-e833905b4a49"
      },
      "execution_count": 52,
      "outputs": [
        {
          "output_type": "stream",
          "name": "stdout",
          "text": [
            "Введите целое число: 9\n",
            "1 * 1 = 1\t 1 * 2 = 2\t 1 * 3 = 3\t 1 * 4 = 4\t 1 * 5 = 5\t 1 * 6 = 6\t 1 * 7 = 7\t 1 * 8 = 8\t 1 * 9 = 9\t \n",
            "2 * 1 = 2\t 2 * 2 = 4\t 2 * 3 = 6\t 2 * 4 = 8\t 2 * 5 = 10\t 2 * 6 = 12\t 2 * 7 = 14\t 2 * 8 = 16\t 2 * 9 = 18\t \n",
            "3 * 1 = 3\t 3 * 2 = 6\t 3 * 3 = 9\t 3 * 4 = 12\t 3 * 5 = 15\t 3 * 6 = 18\t 3 * 7 = 21\t 3 * 8 = 24\t 3 * 9 = 27\t \n",
            "4 * 1 = 4\t 4 * 2 = 8\t 4 * 3 = 12\t 4 * 4 = 16\t 4 * 5 = 20\t 4 * 6 = 24\t 4 * 7 = 28\t 4 * 8 = 32\t 4 * 9 = 36\t \n",
            "5 * 1 = 5\t 5 * 2 = 10\t 5 * 3 = 15\t 5 * 4 = 20\t 5 * 5 = 25\t 5 * 6 = 30\t 5 * 7 = 35\t 5 * 8 = 40\t 5 * 9 = 45\t \n",
            "6 * 1 = 6\t 6 * 2 = 12\t 6 * 3 = 18\t 6 * 4 = 24\t 6 * 5 = 30\t 6 * 6 = 36\t 6 * 7 = 42\t 6 * 8 = 48\t 6 * 9 = 54\t \n",
            "7 * 1 = 7\t 7 * 2 = 14\t 7 * 3 = 21\t 7 * 4 = 28\t 7 * 5 = 35\t 7 * 6 = 42\t 7 * 7 = 49\t 7 * 8 = 56\t 7 * 9 = 63\t \n",
            "8 * 1 = 8\t 8 * 2 = 16\t 8 * 3 = 24\t 8 * 4 = 32\t 8 * 5 = 40\t 8 * 6 = 48\t 8 * 7 = 56\t 8 * 8 = 64\t 8 * 9 = 72\t \n",
            "9 * 1 = 9\t 9 * 2 = 18\t 9 * 3 = 27\t 9 * 4 = 36\t 9 * 5 = 45\t 9 * 6 = 54\t 9 * 7 = 63\t 9 * 8 = 72\t 9 * 9 = 81\t \n"
          ]
        }
      ]
    },
    {
      "cell_type": "markdown",
      "source": [
        "26"
      ],
      "metadata": {
        "id": "MSgLHwEK__Jm"
      }
    },
    {
      "cell_type": "code",
      "source": [
        "n = int(input('Введите число: '))\n",
        "\n",
        "for f in range(2,n+1):\n",
        "    a = 2\n",
        "    g = 2\n",
        "    while (g*g<=f):\n",
        "        if f%g==0:\n",
        "            a += 1\n",
        "            b = f//g\n",
        "            if b != g:\n",
        "                a += 1\n",
        "        g += 1\n",
        "        \n",
        "    print(f,a*\"*\")"
      ],
      "metadata": {
        "colab": {
          "base_uri": "https://localhost:8080/"
        },
        "id": "UyhQZmQ9__q5",
        "outputId": "acda7f10-a2f9-4e87-b619-bf2dda80d5f0"
      },
      "execution_count": 53,
      "outputs": [
        {
          "output_type": "stream",
          "name": "stdout",
          "text": [
            "Введите число: 9\n",
            "2 **\n",
            "3 **\n",
            "4 ***\n",
            "5 **\n",
            "6 ****\n",
            "7 **\n",
            "8 ****\n",
            "9 ***\n"
          ]
        }
      ]
    },
    {
      "cell_type": "markdown",
      "source": [
        "27"
      ],
      "metadata": {
        "id": "udscZvRa__3U"
      }
    },
    {
      "cell_type": "code",
      "source": [
        "n = int(input('Введите целое число: '))*3\n",
        "a = 1\n",
        "g = list()\n",
        "\n",
        "for x in range(1, n+1):\n",
        "    c = 0\n",
        "    for y in range(1, a+1):\n",
        "        b = a % y\n",
        "        if b == 0:\n",
        "            c = c + 1\n",
        "    if c == 2:\n",
        "        g.append(a)\n",
        "    else:\n",
        "        x = x - 1\n",
        "    a = a + 1\n",
        "\n",
        "print(g[:n])"
      ],
      "metadata": {
        "colab": {
          "base_uri": "https://localhost:8080/"
        },
        "id": "LI65JBcPAAfv",
        "outputId": "a0753f40-ab31-48c0-fc92-dabf6113edf3"
      },
      "execution_count": 55,
      "outputs": [
        {
          "output_type": "stream",
          "name": "stdout",
          "text": [
            "Введите целое число: 9\n",
            "[2, 3, 5, 7, 11, 13, 17, 19, 23]\n"
          ]
        }
      ]
    },
    {
      "cell_type": "markdown",
      "source": [
        "28"
      ],
      "metadata": {
        "id": "d5yrddGyABAy"
      }
    },
    {
      "cell_type": "code",
      "source": [
        "k = int(input('Введите целое число: '))\n",
        "\n",
        "for x in range(1, 31):\n",
        "    for y in range(1, 31):\n",
        "        for z in range(1, 31):\n",
        "            if x*x+y*y+z*z==k*k:\n",
        "                print(f'x = {x}, y = {y}, z = {z}')"
      ],
      "metadata": {
        "colab": {
          "base_uri": "https://localhost:8080/"
        },
        "id": "1tQ59-amABun",
        "outputId": "f848d151-6e65-4864-8da0-1f4225a7b202"
      },
      "execution_count": 56,
      "outputs": [
        {
          "output_type": "stream",
          "name": "stdout",
          "text": [
            "Введите целое число: 9\n",
            "x = 1, y = 4, z = 8\n",
            "x = 1, y = 8, z = 4\n",
            "x = 3, y = 6, z = 6\n",
            "x = 4, y = 1, z = 8\n",
            "x = 4, y = 4, z = 7\n",
            "x = 4, y = 7, z = 4\n",
            "x = 4, y = 8, z = 1\n",
            "x = 6, y = 3, z = 6\n",
            "x = 6, y = 6, z = 3\n",
            "x = 7, y = 4, z = 4\n",
            "x = 8, y = 1, z = 4\n",
            "x = 8, y = 4, z = 1\n"
          ]
        }
      ]
    }
  ],
  "metadata": {
    "colab": {
      "collapsed_sections": [],
      "name": "Добро пожаловать в Colaboratory!",
      "toc_visible": true,
      "provenance": [],
      "include_colab_link": true
    },
    "kernelspec": {
      "display_name": "Python 3",
      "name": "python3"
    }
  },
  "nbformat": 4,
  "nbformat_minor": 0
}