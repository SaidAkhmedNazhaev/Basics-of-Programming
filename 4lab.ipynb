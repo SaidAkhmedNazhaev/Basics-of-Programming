{
  "cells": [
    {
      "cell_type": "markdown",
      "metadata": {
        "id": "view-in-github",
        "colab_type": "text"
      },
      "source": [
        "<a href=\"https://colab.research.google.com/github/SaidAkhmedNazhaev/Basics-of-Programming/blob/main/4lab.ipynb\" target=\"_parent\"><img src=\"https://colab.research.google.com/assets/colab-badge.svg\" alt=\"Open In Colab\"/></a>"
      ]
    },
    {
      "cell_type": "markdown",
      "source": [
        "1"
      ],
      "metadata": {
        "id": "0jbjBTWpsukj"
      }
    },
    {
      "cell_type": "code",
      "source": [
        "x = int(input(\"x=\"))\n",
        "\n",
        "if x >= 0:\n",
        "  f = (x**(1/2))+(x**2)\n",
        "else:\n",
        "  f = 1/x\n",
        "\n",
        "print('Получившийся результат:', round(f, 2))"
      ],
      "metadata": {
        "id": "mfEYYRcH4FZO",
        "outputId": "ec04d3a5-3741-4dc0-d885-ef4b426dc1ae",
        "colab": {
          "base_uri": "https://localhost:8080/"
        }
      },
      "execution_count": null,
      "outputs": [
        {
          "output_type": "stream",
          "name": "stdout",
          "text": [
            "x=9\n",
            "Получившийся результат: 84.0\n"
          ]
        }
      ]
    },
    {
      "cell_type": "markdown",
      "source": [
        "2"
      ],
      "metadata": {
        "id": "ilQhh4Hfsyuy"
      }
    },
    {
      "cell_type": "code",
      "source": [
        "a1 = int(input(\"Введите певрвое целое число:\"))\n",
        "a2 = int(input(\"Введите второе целое число:\"))\n",
        "\n",
        "if a1 == a2:\n",
        "  print(\"Числа одинаковы.\")\n",
        "else:\n",
        "  if a1 > a2:\n",
        "    print(\"Максимум:\", a1, \"Минимум:\", a2)\n",
        "  else:\n",
        "      print(\"Максимум:\", a2, \"Минимум:\", a1)"
      ],
      "metadata": {
        "id": "RvqGp1ej6i4f",
        "outputId": "38351130-87ca-4895-b31d-69bb49db5389",
        "colab": {
          "base_uri": "https://localhost:8080/"
        }
      },
      "execution_count": null,
      "outputs": [
        {
          "output_type": "stream",
          "name": "stdout",
          "text": [
            "Введите певрвое целое число:9\n",
            "Введите второе целое число:99\n",
            "Максимум: 99 Минимум: 9\n"
          ]
        }
      ]
    },
    {
      "cell_type": "markdown",
      "source": [
        "3"
      ],
      "metadata": {
        "id": "L9J45PeMs0M9"
      }
    },
    {
      "cell_type": "code",
      "source": [
        "x = int(input(\"Введите координату x:\"))\n",
        "y = int(input(\"Введите координату y:\"))\n",
        "\n",
        "if (x>0 and y>0):\n",
        "  print(\"Точка находится в 1-й четверти.\")\n",
        "if (x<0 and y>0):\n",
        "  print(\"Точка находится в 2-й четверти.\")\n",
        "if (x<0 and y<0):\n",
        "  print(\"Точка находится в 3-й четверти.\")\n",
        "if (x>0 and y<0):\n",
        "  print(\"Точка находится в 4-й четверти.\")\n",
        "if (x==0 and y==0):\n",
        "  print(\"Точка находится на пересечении осей x и y.\")\n",
        "if (x==0):\n",
        "  print(\"Точка находится на оси x.\")\n",
        "if (y==0):\n",
        "  print(\"Точка находится на оси y.\")"
      ],
      "metadata": {
        "id": "-wZUCR7UE5gp",
        "colab": {
          "base_uri": "https://localhost:8080/"
        },
        "outputId": "a9a563d6-2f93-4913-a3ed-8ffa33d35afe"
      },
      "execution_count": 1,
      "outputs": [
        {
          "output_type": "stream",
          "name": "stdout",
          "text": [
            "Введите координату x:9\n",
            "Введите координату y:9\n",
            "Точка находится в 1-й четверти.\n"
          ]
        }
      ]
    },
    {
      "cell_type": "markdown",
      "source": [
        "4"
      ],
      "metadata": {
        "id": "yaxUUCU-srnE"
      }
    },
    {
      "cell_type": "code",
      "source": [
        "a = float(input(\"Введите значение a:\"))\n",
        "b = float(input(\"Введите значение b:\"))\n",
        "c = float(input(\"Введите значение c:\"))\n",
        "\n",
        "d = ((b**2)-(4*a*c))\n",
        "if d < 0:\n",
        "  print(\"Нет решения.\")\n",
        "elif d == 0:\n",
        "  x1 = ((-1*b)/2*a)\n",
        "  print(\"x =\", x1)\n",
        "elif d > 0:\n",
        "  x1 = (((-1*b)+(d**(1/2))/2*a))\n",
        "  x2 = (((-1*b)+(d**(1/2))/2*a))\n",
        "  print(\"x1 =\", x1, \"x2\",x2)"
      ],
      "metadata": {
        "colab": {
          "base_uri": "https://localhost:8080/"
        },
        "id": "fAMqxupZtIFz",
        "outputId": "8f5e25e7-35db-4f91-8a87-f581c1377299"
      },
      "execution_count": null,
      "outputs": [
        {
          "output_type": "stream",
          "name": "stdout",
          "text": [
            "Введите значение a:9\n",
            "Введите значение b:9\n",
            "Введите значение c:9\n",
            "Нет решения.\n"
          ]
        }
      ]
    },
    {
      "cell_type": "markdown",
      "source": [
        "5"
      ],
      "metadata": {
        "id": "AErzoMX2ssZW"
      }
    },
    {
      "cell_type": "code",
      "source": [
        "x = int(input(\"Введите первое целое число:\"))\n",
        "n = list()\n",
        "\n",
        "while x!=0:\n",
        "  n.append(x)\n",
        "  x = int(input(\"Введите дополнительное число:\"))\n",
        "  \n",
        "print(\"Сумма =\", sum(n))\n",
        "print(\"Количество =\", len(n))"
      ],
      "metadata": {
        "colab": {
          "base_uri": "https://localhost:8080/"
        },
        "id": "9n4up2WTvwsw",
        "outputId": "aed21940-8919-4af2-fbed-ebe16f54538d"
      },
      "execution_count": null,
      "outputs": [
        {
          "output_type": "stream",
          "name": "stdout",
          "text": [
            "Введите первое целое число:9\n",
            "Введите дополнительное число:6\n",
            "Введите дополнительное число:6\n",
            "Введите дополнительное число:6\n",
            "Введите дополнительное число:6\n",
            "Введите дополнительное число:0\n",
            "Сумма = 33\n",
            "Количество = 5\n"
          ]
        }
      ]
    },
    {
      "cell_type": "markdown",
      "source": [
        "6"
      ],
      "metadata": {
        "id": "NBDwCch7tYeW"
      }
    },
    {
      "cell_type": "code",
      "source": [
        "n = int(input(\"Введите число n:\"))\n",
        "\n",
        "g = 0\n",
        "print(\"0\")\n",
        "\n",
        "while g <= n:\n",
        "  g = g+5\n",
        "  if g < n:\n",
        "    print(g)\n",
        "  else:\n",
        "    break"
      ],
      "metadata": {
        "colab": {
          "base_uri": "https://localhost:8080/"
        },
        "id": "4LK4nJhPy4A9",
        "outputId": "7e8feaa3-3396-459e-d041-ec977eb06f78"
      },
      "execution_count": null,
      "outputs": [
        {
          "output_type": "stream",
          "name": "stdout",
          "text": [
            "Введите число n:9\n",
            "0\n",
            "5\n"
          ]
        }
      ]
    },
    {
      "cell_type": "markdown",
      "source": [
        "7"
      ],
      "metadata": {
        "id": "GAovmWfVtbpA"
      }
    },
    {
      "cell_type": "code",
      "source": [
        "a = float(input(\"Введите вещенственное число:\"))\n",
        "\n",
        "n = 1\n",
        "x_sum = list()\n",
        "x_sum.append(n)\n",
        "\n",
        "while sum(x_sum)<=a:\n",
        "  n = n+1\n",
        "  g = 1/n\n",
        "  x_sum.append(g)\n",
        "\n",
        "print(n)"
      ],
      "metadata": {
        "colab": {
          "base_uri": "https://localhost:8080/"
        },
        "id": "KIIxPXhm0oaV",
        "outputId": "a6ca54d6-4c3d-4e1c-a6c3-f45255c33a82"
      },
      "execution_count": null,
      "outputs": [
        {
          "output_type": "stream",
          "name": "stdout",
          "text": [
            "Введите вещенственное число:9.9\n",
            "11190\n"
          ]
        }
      ]
    },
    {
      "cell_type": "markdown",
      "source": [
        "8"
      ],
      "metadata": {
        "id": "csdyi8q9thkK"
      }
    },
    {
      "cell_type": "code",
      "source": [
        "n = list(map(int, input(\"Введите целое натуральное число:\")))\n",
        "\n",
        "n_sum = sum(n)\n",
        "n_count = len(n)\n",
        "\n",
        "print(\"Сумма:\", n_sum)\n",
        "print(\"Количество:\", n_count)"
      ],
      "metadata": {
        "colab": {
          "base_uri": "https://localhost:8080/"
        },
        "id": "NgtsH2JQ2N0z",
        "outputId": "4f4563e1-3aa1-4e66-a5ff-e6b8534c7273"
      },
      "execution_count": null,
      "outputs": [
        {
          "output_type": "stream",
          "name": "stdout",
          "text": [
            "Введите целое натуральное число:999\n",
            "Сумма: 27\n",
            "Количество: 3\n"
          ]
        }
      ]
    },
    {
      "cell_type": "markdown",
      "source": [
        "9"
      ],
      "metadata": {
        "id": "mjnIBmE5ti47"
      }
    },
    {
      "cell_type": "code",
      "source": [
        "a = int(input(\"Введите первое число:\"))\n",
        "b = int(input(\"Введите второе число:\"))\n",
        "\n",
        "ls = list(range(a, b+1, 1))\n",
        "print(ls)\n",
        "\n",
        "ls.reverse()\n",
        "print(\"\\n\".join(map(str, ls)))"
      ],
      "metadata": {
        "colab": {
          "base_uri": "https://localhost:8080/"
        },
        "id": "n5V0riVR-ENL",
        "outputId": "3a0275cf-bf5a-4168-d519-d8c2f286eb1b"
      },
      "execution_count": null,
      "outputs": [
        {
          "output_type": "stream",
          "name": "stdout",
          "text": [
            "Введите первое число:0\n",
            "Введите второе число:9\n",
            "[0, 1, 2, 3, 4, 5, 6, 7, 8, 9]\n",
            "9\n",
            "8\n",
            "7\n",
            "6\n",
            "5\n",
            "4\n",
            "3\n",
            "2\n",
            "1\n",
            "0\n"
          ]
        }
      ]
    },
    {
      "cell_type": "markdown",
      "source": [
        "10"
      ],
      "metadata": {
        "id": "vcvgfsCxtlSV"
      }
    },
    {
      "cell_type": "code",
      "source": [
        "n = int(input('Введите значение предполагаемого числа: '))\n",
        "\n",
        "f1 = 1\n",
        "f2 = 1\n",
        "k = 1\n",
        "\n",
        "while n!=f1:\n",
        "    if n<f1:\n",
        "        print('Не является.')\n",
        "        break\n",
        "    else:\n",
        "        k = f1\n",
        "        f1 += f2\n",
        "        f2 = k\n",
        "else:\n",
        "    print('Является.')"
      ],
      "metadata": {
        "id": "PAAT0T8oBjZA",
        "colab": {
          "base_uri": "https://localhost:8080/"
        },
        "outputId": "35ec36f4-bf1a-4867-cb09-9b3f23f60c27"
      },
      "execution_count": 2,
      "outputs": [
        {
          "output_type": "stream",
          "name": "stdout",
          "text": [
            "Введите значение предполагаемого числа: 9\n",
            "Не является.\n"
          ]
        }
      ]
    },
    {
      "cell_type": "markdown",
      "source": [
        "11"
      ],
      "metadata": {
        "id": "BOaZRy2Cvp8S"
      }
    },
    {
      "cell_type": "code",
      "source": [
        "n = int(input('Введите целое число: '))\n",
        "\n",
        "for x in range(1, n+1):\n",
        "    for y in range(1, n+1):\n",
        "        print(f'{x} * {y} = {x * y}\\t', end=' ')\n",
        "    print('')"
      ],
      "metadata": {
        "colab": {
          "base_uri": "https://localhost:8080/"
        },
        "id": "5dtkhyklwUTT",
        "outputId": "8741f78e-8348-4702-f2d9-65ebc0fd6905"
      },
      "execution_count": 9,
      "outputs": [
        {
          "output_type": "stream",
          "name": "stdout",
          "text": [
            "Введите целое число: 3\n",
            "1 * 1 = 1\t 1 * 2 = 2\t 1 * 3 = 3\t \n",
            "2 * 1 = 2\t 2 * 2 = 4\t 2 * 3 = 6\t \n",
            "3 * 1 = 3\t 3 * 2 = 6\t 3 * 3 = 9\t \n"
          ]
        }
      ]
    },
    {
      "cell_type": "markdown",
      "source": [
        "12"
      ],
      "metadata": {
        "id": "JWMTZVsTwSYx"
      }
    },
    {
      "cell_type": "code",
      "source": [
        "k = int(input('Введите целое число: '))\n",
        "\n",
        "for x in range(1, 31):\n",
        "    for y in range(1, 31):\n",
        "        for z in range(1, 31):\n",
        "            if x*x+y*y+z*z==k*k:\n",
        "                print(f'x = {x}, y = {y}, z = {z}')"
      ],
      "metadata": {
        "colab": {
          "base_uri": "https://localhost:8080/"
        },
        "id": "qPeNiXMEvrcq",
        "outputId": "0e567589-94e0-4605-dab5-ca8c2809acfb"
      },
      "execution_count": 7,
      "outputs": [
        {
          "output_type": "stream",
          "name": "stdout",
          "text": [
            "Введите целое число: 18\n",
            "x = 2, y = 8, z = 16\n",
            "x = 2, y = 16, z = 8\n",
            "x = 6, y = 12, z = 12\n",
            "x = 8, y = 2, z = 16\n",
            "x = 8, y = 8, z = 14\n",
            "x = 8, y = 14, z = 8\n",
            "x = 8, y = 16, z = 2\n",
            "x = 12, y = 6, z = 12\n",
            "x = 12, y = 12, z = 6\n",
            "x = 14, y = 8, z = 8\n",
            "x = 16, y = 2, z = 8\n",
            "x = 16, y = 8, z = 2\n"
          ]
        }
      ]
    }
  ],
  "metadata": {
    "colab": {
      "collapsed_sections": [],
      "provenance": [],
      "include_colab_link": true
    },
    "kernelspec": {
      "display_name": "Python 3",
      "name": "python3"
    }
  },
  "nbformat": 4,
  "nbformat_minor": 0
}