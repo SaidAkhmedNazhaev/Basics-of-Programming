{
  "cells": [
    {
      "cell_type": "markdown",
      "metadata": {
        "id": "view-in-github",
        "colab_type": "text"
      },
      "source": [
        "<a href=\"https://colab.research.google.com/github/SaidAkhmedNazhaev/Basics-of-Programming/blob/main/task03_02_01ipynb\" target=\"_parent\"><img src=\"https://colab.research.google.com/assets/colab-badge.svg\" alt=\"Open In Colab\"/></a>"
      ]
    },
    {
      "cell_type": "markdown",
      "source": [
        "Программирование на языке высокого уровня (Python)."
      ],
      "metadata": {
        "id": "MQlU9Oe9IGIn"
      }
    },
    {
      "cell_type": "markdown",
      "source": [
        "Выполнил: Нажаев Саид-Ахмед Ризванович"
      ],
      "metadata": {
        "id": "hMf5dFPoIKvz"
      }
    },
    {
      "cell_type": "markdown",
      "source": [
        "Группа: АДЭУ-221"
      ],
      "metadata": {
        "id": "GNytoc4lH05d"
      }
    },
    {
      "cell_type": "markdown",
      "source": [],
      "metadata": {
        "id": "-i20IStId6wQ"
      }
    },
    {
      "cell_type": "markdown",
      "source": [
        "E-mail: SaidAkhmedNazhaev9@gmail.com"
      ],
      "metadata": {
        "id": "RxY7KjPRH1Mt"
      }
    },
    {
      "cell_type": "markdown",
      "source": [
        "Задание: task_03_02_01"
      ],
      "metadata": {
        "id": "xQXJUpo3Hld0"
      }
    },
    {
      "cell_type": "code",
      "source": [
        "a = int(input(\"a=\"))\n",
        "b = int(input(\"b=\"))\n",
        "\n",
        "print(a+b)\n",
        "print(a-b)\n",
        "print(a*b)\n",
        "round(a/b, 2)\n",
        "print(round(a/b, 2))\n",
        "print(a//b)\n",
        "print(a%b)\n",
        "print(a**b)\n",
        "print(a<b)\n",
        "print(a<=b)\n",
        "print(a>b)\n",
        "print(a>=b)\n",
        "print(a!=b)\n",
        "print(a==b)"
      ],
      "metadata": {
        "colab": {
          "base_uri": "https://localhost:8080/"
        },
        "id": "6cDhQZTYHxuY",
        "outputId": "cac2a817-3901-4296-a44b-a643c3f205f5"
      },
      "execution_count": 1,
      "outputs": [
        {
          "output_type": "stream",
          "name": "stdout",
          "text": [
            "a=9\n",
            "b=9\n",
            "18\n",
            "0\n",
            "81\n",
            "1.0\n",
            "1\n",
            "0\n",
            "387420489\n",
            "False\n",
            "True\n",
            "False\n",
            "True\n",
            "False\n",
            "True\n"
          ]
        }
      ]
    },
    {
      "cell_type": "markdown",
      "source": [
        "Задание: task_03_02_02"
      ],
      "metadata": {
        "id": "8_WRNE9WHY7f"
      }
    },
    {
      "cell_type": "markdown",
      "source": [
        "![task_03_02_02.jpg](data:image/jpeg;base64,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)"
      ],
      "metadata": {
        "id": "0U6weAr4LmU1"
      }
    },
    {
      "cell_type": "code",
      "source": [
        "x = int(input(\"x=\"))\n",
        "y = int(input(\"y=\"))\n",
        "z = int(input(\"z=\"))\n",
        "\n",
        "res = ((((x**5+7)/(abs(-6)*y))**(1/3))/(7-z%y))\n",
        "print(round(res, 2))"
      ],
      "metadata": {
        "colab": {
          "base_uri": "https://localhost:8080/"
        },
        "id": "KnIjeOG8KYag",
        "outputId": "75c3a469-0039-4e74-fc7a-ccb265aee4de"
      },
      "execution_count": 2,
      "outputs": [
        {
          "output_type": "stream",
          "name": "stdout",
          "text": [
            "x=9\n",
            "y=9\n",
            "z=9\n",
            "1.47\n"
          ]
        }
      ]
    },
    {
      "cell_type": "markdown",
      "source": [
        "Задание: task_03_02_03"
      ],
      "metadata": {
        "id": "DTFJyWYhNvUw"
      }
    },
    {
      "cell_type": "code",
      "source": [
        "print('Введите сопротивление первого проводника.')\n",
        "r1 = float(input())\n",
        "print('Введите сопротивление второго проводника.')\n",
        "r2 = float(input())\n",
        "r = r1+r2\n",
        "print('Общее сопротивление равно:', r1+r2)"
      ],
      "metadata": {
        "colab": {
          "base_uri": "https://localhost:8080/"
        },
        "id": "k23H3PRRN3Cf",
        "outputId": "17e5a1bd-51ae-4e6c-eeca-116a6c0f1be9"
      },
      "execution_count": 3,
      "outputs": [
        {
          "output_type": "stream",
          "name": "stdout",
          "text": [
            "Введите сопротивление первого проводника.\n",
            "9\n",
            "Введите сопротивление второго проводника.\n",
            "9\n",
            "Общее сопротивление равно: 18.0\n"
          ]
        }
      ]
    },
    {
      "cell_type": "markdown",
      "source": [
        "Задание: task_03_02_04"
      ],
      "metadata": {
        "id": "U2XypicuP3F9"
      }
    },
    {
      "cell_type": "code",
      "source": [
        "num2 = list(map(int, input(\"Введите двузначное число:\")))\n",
        "num3 = list(map(int, input(\"Введите трехзначное число:\")))\n",
        "\n",
        "num2_1 = num2[0]\n",
        "num2_2 = num2[1]\n",
        "\n",
        "num2_s = num2_1+num2_2\n",
        "num2_p = num2_1*num2_2\n",
        "\n",
        "num3_1 = num3[0]\n",
        "num3_2 = num3[1]\n",
        "num3_3 = num3[2]\n",
        "\n",
        "num3_s = num3_1+num3_2+num3_3\n",
        "num3_p = num3_1*num3_2*num3_3\n",
        "\n",
        "print(\"Получившиеся сумма и произведение цифр первого числа:\", num2_s,num2_p)\n",
        "print(\"Получившиеся сумма и произведение цифр второго числа:\", num3_s,num3_p)"
      ],
      "metadata": {
        "colab": {
          "base_uri": "https://localhost:8080/"
        },
        "id": "t5mIxe8uP82I",
        "outputId": "a0ebe242-c0b9-4ec8-9fba-1148eaae15fc"
      },
      "execution_count": 4,
      "outputs": [
        {
          "output_type": "stream",
          "name": "stdout",
          "text": [
            "Введите двузначное число:99\n",
            "Введите трехзначное число:999\n",
            "Получившиеся сумма и произведение цифр первого числа: 18 81\n",
            "Получившиеся сумма и произведение цифр второго числа: 27 729\n"
          ]
        }
      ]
    },
    {
      "cell_type": "markdown",
      "source": [
        "Задание: task_03_02_05"
      ],
      "metadata": {
        "id": "vEkgMiK2SqXd"
      }
    },
    {
      "cell_type": "code",
      "source": [
        "m = int(input(\"m=\"))\n",
        "\n",
        "h = m//60\n",
        "m2 = m%60\n",
        "\n",
        "print(\"Целое количество часов, прошедших с начала суток:\", h)\n",
        "print(\"Количество минут, прошедших с момента начала последнего часа:\", m2)"
      ],
      "metadata": {
        "colab": {
          "base_uri": "https://localhost:8080/"
        },
        "id": "a9UtQrOEi5p6",
        "outputId": "3bd24408-008d-49db-d017-3854492df058"
      },
      "execution_count": 5,
      "outputs": [
        {
          "output_type": "stream",
          "name": "stdout",
          "text": [
            "m=999\n",
            "Целое количество часов, прошедших с начала суток: 16\n",
            "Количество минут, прошедших с момента начала последнего часа: 39\n"
          ]
        }
      ]
    },
    {
      "cell_type": "markdown",
      "source": [
        "Задание: task_03_02_06"
      ],
      "metadata": {
        "id": "U_63IUlES4VX"
      }
    },
    {
      "cell_type": "code",
      "source": [
        "a = int(input(\"a=\"))\n",
        "b = int(input(\"b=\"))\n",
        "m = int(input(\"m=\"))\n",
        "n = int(input(\"n=\"))\n",
        "\n",
        "x = -b/a\n",
        "\n",
        "is_ok = bool((x>=m) and (x<=n))\n",
        "\n",
        "print(\"Попадает:\", is_ok)"
      ],
      "metadata": {
        "colab": {
          "base_uri": "https://localhost:8080/"
        },
        "id": "TyFG88avS-n6",
        "outputId": "8e9fcaf7-ba59-4cdf-91cd-6dbf35b617f9"
      },
      "execution_count": 6,
      "outputs": [
        {
          "output_type": "stream",
          "name": "stdout",
          "text": [
            "a=9\n",
            "b=9\n",
            "m=-9\n",
            "n=9\n",
            "Попадает: True\n"
          ]
        }
      ]
    },
    {
      "cell_type": "markdown",
      "source": [
        "Задание: tesk_03_02_07"
      ],
      "metadata": {
        "id": "QtubUYYmUL0I"
      }
    },
    {
      "cell_type": "code",
      "source": [
        "team = input(\"Введите название команды:\")\n",
        "\n",
        "print((team)+\"-чемпион!\")\n",
        "print(\"-\"*len(team))\n",
        "\n",
        "team_lowercase = print(team.lower())\n",
        "\n",
        "print(\"Символов в названии команды:\", len(team))\n",
        "print(\"Буква 'п' есть:\", bool(\"п\" in \"Спартак\"))\n",
        "print(\"Количество букв а:\", team.find('а'))"
      ],
      "metadata": {
        "colab": {
          "base_uri": "https://localhost:8080/"
        },
        "id": "ETWJMXwAUWEx",
        "outputId": "08134e2f-6371-490a-e66f-f2747dc218bf"
      },
      "execution_count": 8,
      "outputs": [
        {
          "output_type": "stream",
          "name": "stdout",
          "text": [
            "Введите название команды:Спартак\n",
            "Спартак-чемпион!\n",
            "-------\n",
            "спартак\n",
            "Символов в названии команды: 7\n",
            "Буква 'п' есть: True\n",
            "Количество букв а: 2\n"
          ]
        }
      ]
    },
    {
      "cell_type": "markdown",
      "source": [
        "Задание: task_03_02_08"
      ],
      "metadata": {
        "id": "7XmNyhGrWwYx"
      }
    },
    {
      "cell_type": "code",
      "source": [
        "country = input()\n",
        "capital = input()\n",
        "\n",
        "s1 = 'Государство -'\n",
        "s2 = \"столица -\"\n",
        "done = \"{} {}, {} {}\".format(s1, country, s2, capital)\n",
        "print(done)"
      ],
      "metadata": {
        "colab": {
          "base_uri": "https://localhost:8080/"
        },
        "id": "NAZ6EwYvW2Gg",
        "outputId": "967dc819-519a-44ae-fb87-b03594be8bb9"
      },
      "execution_count": 9,
      "outputs": [
        {
          "output_type": "stream",
          "name": "stdout",
          "text": [
            "Россия\n",
            "Москва\n",
            "Государство - Россия, столица - Москва\n"
          ]
        }
      ]
    },
    {
      "cell_type": "markdown",
      "source": [
        "Задание: task_03_02_09"
      ],
      "metadata": {
        "id": "rmzQR5qaYFlD"
      }
    },
    {
      "cell_type": "code",
      "source": [
        "word = \"объектно-ориентированный\"\n",
        "\n",
        "w1 = word[:6]\n",
        "w2 = word[9:17]\n",
        "w3 = word[14:17]\n",
        "w4 = word[4]+word[7]+word[5]\n",
        "w5 = word[10]+word[12:15]+word[19]\n",
        "\n",
        "print(w1, w2, w3, w4, w5, sep=\"\\n\")"
      ],
      "metadata": {
        "colab": {
          "base_uri": "https://localhost:8080/"
        },
        "id": "oBNvIBpMYOC7",
        "outputId": "869d56bc-de81-4e47-d4a3-a44cee60234f"
      },
      "execution_count": 10,
      "outputs": [
        {
          "output_type": "stream",
          "name": "stdout",
          "text": [
            "объект\n",
            "ориентир\n",
            "тир\n",
            "кот\n",
            "рента\n"
          ]
        }
      ]
    }
  ],
  "metadata": {
    "colab": {
      "collapsed_sections": [],
      "provenance": [],
      "include_colab_link": true
    },
    "kernelspec": {
      "display_name": "Python 3",
      "name": "python3"
    }
  },
  "nbformat": 4,
  "nbformat_minor": 0
}