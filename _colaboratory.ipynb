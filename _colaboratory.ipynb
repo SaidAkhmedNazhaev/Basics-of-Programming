{
  "cells": [
    {
      "cell_type": "markdown",
      "metadata": {
        "id": "view-in-github",
        "colab_type": "text"
      },
      "source": [
        "<a href=\"https://colab.research.google.com/github/SaidAkhmedNazhaev/Basics-of-Programming/blob/main/_colaboratory.ipynb\" target=\"_parent\"><img src=\"https://colab.research.google.com/assets/colab-badge.svg\" alt=\"Open In Colab\"/></a>"
      ]
    },
    {
      "cell_type": "markdown",
      "source": [
        "№1"
      ],
      "metadata": {
        "id": "oQ4bUIacDHQw"
      }
    },
    {
      "cell_type": "code",
      "source": [
        "def sgn(x):\n",
        "    if x>0:\n",
        "        f = 1\n",
        "        return f\n",
        "    elif x==0:\n",
        "        f = 0\n",
        "        return f\n",
        "    elif x<0:\n",
        "        f = -1\n",
        "        return f"
      ],
      "metadata": {
        "id": "HydhtagsDLqF"
      },
      "execution_count": null,
      "outputs": []
    },
    {
      "cell_type": "code",
      "source": [
        "x = float(input('Введите x: '))\n",
        "y = float(input('Введите y: '))\n",
        "\n",
        "a = (sgn(x)+y*y)\n",
        "b = (sgn(y)-((abs(x))**(1/2)))\n",
        "z = a/b\n",
        "\n",
        "if b == 0:\n",
        "  print('Ошибка. Знаменатель равен нулю.')\n",
        "else:\n",
        "  print(round(z, 2))"
      ],
      "metadata": {
        "id": "qFKHfQ8CDQHP",
        "outputId": "ff6e9269-439a-43a8-cd52-70a43bae389f",
        "colab": {
          "base_uri": "https://localhost:8080/"
        }
      },
      "execution_count": null,
      "outputs": [
        {
          "output_type": "stream",
          "name": "stdout",
          "text": [
            "Введите x: 9\n",
            "Введите y: 9\n",
            "-41.0\n"
          ]
        }
      ]
    },
    {
      "cell_type": "markdown",
      "source": [
        "№2"
      ],
      "metadata": {
        "id": "c1XWE0liDTJd"
      }
    },
    {
      "cell_type": "code",
      "source": [
        "def cleared_data(data):\n",
        "    for y in range(ls.count(data)):\n",
        "        if data in ls:\n",
        "            ls.pop(ls.index('None'))\n",
        "    return ls\n",
        "\n",
        "def avg(data):\n",
        "    summ = 0\n",
        "    k = 0\n",
        "    for i in data:\n",
        "        summ += i\n",
        "        k += 1\n",
        "    avg_ = summ/k\n",
        "    return avg_"
      ],
      "metadata": {
        "id": "01kCCAoRDVSZ"
      },
      "execution_count": null,
      "outputs": []
    },
    {
      "cell_type": "code",
      "source": [
        "n = int(input('Кол-во измерений: '))\n",
        "por = 1\n",
        "ls = []\n",
        "for x in range(n):\n",
        "    g = input(f'Измерение {por}-е: ')\n",
        "    por += 1\n",
        "    if g == '-':\n",
        "        ls.append('None')\n",
        "    else:\n",
        "        ls.append(g)\n",
        "\n",
        "cleared_data('None')\n",
        "ls = list(map(int, ls))\n",
        "avg_ = avg(ls)\n",
        "print(f'Средняя температура: {avg_}')"
      ],
      "metadata": {
        "id": "iauKxe11DZMs",
        "outputId": "990792be-bc2a-42ef-f6f6-2ac218c4f367",
        "colab": {
          "base_uri": "https://localhost:8080/"
        }
      },
      "execution_count": null,
      "outputs": [
        {
          "output_type": "stream",
          "name": "stdout",
          "text": [
            "Кол-во измерений: 2\n",
            "Измерение 1-е: 6\n",
            "Измерение 2-е: 9\n",
            "Средняя температура: 7.5\n"
          ]
        }
      ]
    },
    {
      "cell_type": "markdown",
      "source": [
        "№3"
      ],
      "metadata": {
        "id": "KoOwwWI-DcNj"
      }
    },
    {
      "cell_type": "code",
      "source": [
        "g = []\n",
        "\n",
        "def is_lucky(num):\n",
        "    odd1 = []\n",
        "    even1 = []\n",
        "    p_c = num%10\n",
        "    p_f = num//10\n",
        "    if p_c%2==0:\n",
        "        even1.append(p_c)\n",
        "    else:\n",
        "        odd1.append(p_c)\n",
        "    if p_f%2 == 0:\n",
        "        even1.append(p_c)\n",
        "    else:\n",
        "        odd1.append(p_c)\n",
        "    if len(odd1) == len(even1):\n",
        "        g.append(num)\n",
        "    odd1.clear()\n",
        "    even1.clear()\n",
        "    return g"
      ],
      "metadata": {
        "id": "VE7bKcX9DdLW"
      },
      "execution_count": null,
      "outputs": []
    },
    {
      "cell_type": "code",
      "source": [
        "a = int(input('Введите первый номер билета: '))\n",
        "b = int(input('Введите последний номер билета: '))\n",
        "\n",
        "for x in range(a, b+1):\n",
        "  is_lucky(x)\n",
        "\n",
        "print(' '.join(map(str, g)))"
      ],
      "metadata": {
        "id": "FLBYydYlDhDX",
        "outputId": "e6850aac-fb60-4a05-a978-be9f22cb1230",
        "colab": {
          "base_uri": "https://localhost:8080/"
        }
      },
      "execution_count": null,
      "outputs": [
        {
          "output_type": "stream",
          "name": "stdout",
          "text": [
            "Введите первый номер билета: 9\n",
            "Введите последний номер билета: 9\n",
            "9\n"
          ]
        }
      ]
    },
    {
      "cell_type": "markdown",
      "source": [
        "№4"
      ],
      "metadata": {
        "id": "SoaTVzR4Fgll"
      }
    },
    {
      "cell_type": "code",
      "source": [
        "def is_leap(year):\n",
        "  if year % 4 ==0 and year %100 != 0 or year % 400 == 0:\n",
        "    feb_day=29\n",
        "  else:\n",
        "     feb_day = 28\n",
        "  return feb_day\n",
        "\n",
        "def days(month, year):\n",
        "  month_day_31=[1,3,5,7,8,10,12]\n",
        "  month_day_30=[4,6,9,11]\n",
        "  if month in month_day_31:\n",
        "    date=31\n",
        "  elif month in month_day_30:\n",
        "    date=30\n",
        "  else:\n",
        "    date=is_leap(year)\n",
        "  return date\n",
        "\n",
        "def previous_date(day, month, year):\n",
        "  if day == 1:\n",
        "    month -=1\n",
        "    if month == 0:\n",
        "      year -=1\n",
        "      month=12\n",
        "      day=days(month, year)\n",
        "    else:\n",
        "      year=year\n",
        "      month = month\n",
        "      day=days(month, year)\n",
        "  else:\n",
        "    day -=1\n",
        "    month=month\n",
        "    year=year\n",
        "  return day, month, year\n",
        "\n",
        "def next_date(day, month, year):\n",
        "  if day == days(month, year):\n",
        "    month += 1\n",
        "    if month == 13:\n",
        "      month=1\n",
        "      year+=1\n",
        "      day=1\n",
        "    else:\n",
        "      month=month\n",
        "      day=1\n",
        "      year=year\n",
        "  else:\n",
        "    day+=1\n",
        "    month = month\n",
        "    year=year\n",
        "  return day, month, year"
      ],
      "metadata": {
        "id": "WXBJXI8SDmQh"
      },
      "execution_count": null,
      "outputs": []
    },
    {
      "cell_type": "code",
      "source": [
        "dmn = input('День, месяц, год через пробел: ').split()\n",
        "print(dmn)\n",
        "dmn = map(int, dmn)\n",
        "day, month, year = dmn\n",
        "\n",
        "day_next, month_next, year_next = next_date(day, month, year)\n",
        "day_prev, month_prev, year_prev = previous_date(day, month, year)\n",
        "\n",
        "print(f'Предыдущий день: {day_prev}/{month_prev}/{year_prev}')\n",
        "print(f'Следующий день: {day_next}/{month_next}/{year_next}')\n"
      ],
      "metadata": {
        "id": "e2QuJLzSDpby",
        "outputId": "39730c5e-43dc-414e-dbdd-f4fcb22d1547",
        "colab": {
          "base_uri": "https://localhost:8080/"
        }
      },
      "execution_count": null,
      "outputs": [
        {
          "output_type": "stream",
          "name": "stdout",
          "text": [
            "День, месяц, год через пробел: 09 11 2022\n",
            "['09', '11', '2022']\n",
            "Предыдущий день: 8/11/2022\n",
            "Следующий день: 10/11/2022\n"
          ]
        }
      ]
    },
    {
      "cell_type": "markdown",
      "source": [
        "№6"
      ],
      "metadata": {
        "id": "wEj2KLI0Dtpz"
      }
    },
    {
      "cell_type": "code",
      "source": [
        "def gcd(first, second):\n",
        "  if second > first:\n",
        "    a = second\n",
        "  else:\n",
        "    a = first\n",
        "  for i in range(1,a+1):\n",
        "    if (first % i == 0) and (second % i == 0 ):\n",
        "      gcd = i\n",
        "  return gcd\n",
        "\n",
        "\n",
        "def lcm(first, second):\n",
        "  if first > second:\n",
        "    a = first\n",
        "  else:\n",
        "    a = second\n",
        "  while(True):\n",
        "    if (a % first == 0) and (a % second == 0):\n",
        "      return a\n",
        "    a += 1\n",
        "\n",
        "def gcd_nums(nums):\n",
        "  for x in range(1, len(nums) - 1):\n",
        "    nums[x] = gcd(nums[x-1], nums[x])\n",
        "  return nums[x]\n",
        "\n",
        "def lcm_nums(nums):\n",
        "  for x in range(1, len(nums)):\n",
        "    nums[x] = lcm(nums[x-1], nums[x])\n",
        "  return nums[x]"
      ],
      "metadata": {
        "id": "IFXZ1wlvDwmM"
      },
      "execution_count": null,
      "outputs": []
    },
    {
      "cell_type": "code",
      "source": [
        "nums = input('Введите чилса через пробел: ').split()\n",
        "nums = list(map(int, nums))\n",
        "nums1 = nums.copy()\n",
        "gcd_d = gcd_nums(nums)\n",
        "lcm_d = lcm_nums(nums1)\n",
        "\n",
        "print('НОД = ', gcd_d)\n",
        "print('НОК = ', lcm_d)"
      ],
      "metadata": {
        "id": "Jz2jJDqzD6e3",
        "outputId": "49840dbb-9648-41b2-b9e2-281b68c6fee2",
        "colab": {
          "base_uri": "https://localhost:8080/"
        }
      },
      "execution_count": null,
      "outputs": [
        {
          "output_type": "stream",
          "name": "stdout",
          "text": [
            "Введите чилса через пробел: 1 3 5 7 9\n",
            "НОД =  1\n",
            "НОК =  315\n"
          ]
        }
      ]
    },
    {
      "cell_type": "markdown",
      "source": [
        "№7"
      ],
      "metadata": {
        "id": "jPu4ZiphD9VG"
      }
    },
    {
      "cell_type": "code",
      "source": [
        "def has_digits(sentence):\n",
        "    sentences = 0\n",
        "    sentence_list = list(map(str, sentence))\n",
        "    digit = '123456789'\n",
        "    digits = list(map(str, digit))\n",
        "    for y in digits:\n",
        "        if y in sentence_list:\n",
        "            sentences += 1\n",
        "    return sentences\n",
        "\n",
        "\n",
        "def sentences_with_digits_count(sentences):\n",
        "    print(f'Предложений с цифрой = {sentences}')"
      ],
      "metadata": {
        "id": "vCdocR8yEAJQ"
      },
      "execution_count": null,
      "outputs": []
    },
    {
      "cell_type": "code",
      "source": [
        "n = int(input('Введите количество предложений: '))\n",
        "sentences = 0\n",
        "amount = 0\n",
        "\n",
        "for x in range(n):\n",
        "  sentence1 = input(f'Введите предложение №{x+1}: ')\n",
        "  f = has_digits(sentence1)\n",
        "  if f == 1:\n",
        "    amount += 1\n",
        "\n",
        "sentences_with_digits_count(amount)"
      ],
      "metadata": {
        "id": "7yuK3quSEDi9",
        "outputId": "82f4c54c-f244-4bdc-c43d-0be8b6225e92",
        "colab": {
          "base_uri": "https://localhost:8080/"
        }
      },
      "execution_count": null,
      "outputs": [
        {
          "output_type": "stream",
          "name": "stdout",
          "text": [
            "Введите количество предложений: 3\n",
            "Введите предложение №1: Я\n",
            "Введите предложение №2: просто\n",
            "Введите предложение №3: Человек!\n",
            "Предложений с цифрой = 0\n"
          ]
        }
      ]
    },
    {
      "cell_type": "markdown",
      "source": [
        "№8"
      ],
      "metadata": {
        "id": "aZD-cC5yEGKm"
      }
    },
    {
      "cell_type": "code",
      "source": [
        "def print_with_border(string, char):\n",
        "    w = list(map(str, string))\n",
        "    fw = len(w)+2\n",
        "    print(f'{char}'*fw+'\\n'+f'{char}'+f'{string}'+f'{char}'+'\\n'+f'{char}'*fw)"
      ],
      "metadata": {
        "id": "3g_FeyoGEIJo"
      },
      "execution_count": null,
      "outputs": []
    },
    {
      "cell_type": "code",
      "source": [
        "s = input('Введите строку: ')\n",
        "k = input('Введите символ: ')\n",
        "\n",
        "print_with_border(s, k)"
      ],
      "metadata": {
        "id": "WxoiAK9CEKQP",
        "outputId": "3db02521-95b0-4b93-a6ac-d52d3154a633",
        "colab": {
          "base_uri": "https://localhost:8080/"
        }
      },
      "execution_count": null,
      "outputs": [
        {
          "output_type": "stream",
          "name": "stdout",
          "text": [
            "Введите строку: искусство\n",
            "Введите символ: @\n",
            "@@@@@@@@@@@\n",
            "@искусство@\n",
            "@@@@@@@@@@@\n"
          ]
        }
      ]
    },
    {
      "cell_type": "markdown",
      "source": [
        "№9"
      ],
      "metadata": {
        "id": "mTTuIdLcENCy"
      }
    },
    {
      "cell_type": "code",
      "source": [
        "LETTERS_EX = {10: \"A\", 11: \"B\", 12: \"C\", 13: \"D\", 14: \"E\", 15: \"F\"}\n",
        "DIGITS_EX = {\"A\": 10, \"B\": 11, \"C\": 12, \"D\": 13, \"E\": 14, \"F\": 15}\n",
        "\n",
        "DIGITS_ALL = '0123456789ABCDEF'\n",
        "\n",
        "def to_base(number, base):\n",
        "  f = ''\n",
        "  while number>0:\n",
        "    new = number % base\n",
        "    f = DIGITS_ALL[new] + f\n",
        "    number = number // base\n",
        "  return f\n",
        "\n",
        "def from_base(number, base):\n",
        "    f = ''\n",
        "    n = 0\n",
        "    done = 0\n",
        "    while number >= 1:\n",
        "      new1 = number%10 * (base**n)\n",
        "      n += 1\n",
        "      done += new1\n",
        "      number = number // 10\n",
        "    return done"
      ],
      "metadata": {
        "id": "DcYjh0uXEPJI"
      },
      "execution_count": null,
      "outputs": []
    },
    {
      "cell_type": "code",
      "source": [
        "a = to_base(10, 2)\n",
        "b = from_base(1010, 2)\n",
        "\n",
        "print(a)\n",
        "print(b)"
      ],
      "metadata": {
        "id": "fdrDHjzOEU7Q",
        "outputId": "2543e961-45b8-4cc6-f67c-b7025e5754f8",
        "colab": {
          "base_uri": "https://localhost:8080/"
        }
      },
      "execution_count": null,
      "outputs": [
        {
          "output_type": "stream",
          "name": "stdout",
          "text": [
            "1010\n",
            "10\n"
          ]
        }
      ]
    },
    {
      "cell_type": "markdown",
      "source": [
        "№11"
      ],
      "metadata": {
        "id": "vCsJ5wUUEVjy"
      }
    },
    {
      "cell_type": "code",
      "source": [
        "def ceasar(text,shift):\n",
        "  letters = [chr(i) for i in range(ord('a'), ord('я')+1)]\n",
        "  let_up = [chr(i) for i in range(ord('A'), ord('Я')+1)]\n",
        "  resource = []\n",
        "  f = ''\n",
        "  for i in range(len(txt)):\n",
        "    if txt[i] in letters:\n",
        "      f = letters\n",
        "    elif txt[i] in let_up:\n",
        "      f = let_up\n",
        "    else:\n",
        "      resource.append(txt[i])\n",
        "    if txt[i] in f:\n",
        "      for p in range(len(f)):\n",
        "        if f[p] == txt[i] and len(f) > shift+p >= 0:\n",
        "          resource.append(f[p+shift])\n",
        "        elif f[p] == txt[i] and len(f) <= p+shift:\n",
        "          resource.append(n[(1-p-shift)%(len(f)-1)])\n",
        "        elif f[p] == txt[i] and 0 > shift+p:\n",
        "          resource.append(f[(p+shift) % len(f)])\n",
        "  return ''.join(resource)"
      ],
      "metadata": {
        "id": "42-x9OUfEXG9"
      },
      "execution_count": null,
      "outputs": []
    },
    {
      "cell_type": "code",
      "source": [
        "txt = input('Введите предложение: ')\n",
        "shift = int(input('Введите сдвиг: '))\n",
        "\n",
        "encoded = ceasar(txt, shift)\n",
        "decoded = txt\n",
        "print(\"Зашифрованная строка:\", encoded)\n",
        "print(\"Расшифрованная строка:\", decoded)"
      ],
      "metadata": {
        "id": "i2yDHAoqEdto",
        "outputId": "36d064f3-5f4c-40fc-f0dd-b535d55edbc6",
        "colab": {
          "base_uri": "https://localhost:8080/"
        }
      },
      "execution_count": null,
      "outputs": [
        {
          "output_type": "stream",
          "name": "stdout",
          "text": [
            "Введите предложение: Carpe Diem\n",
            "Введите сдвиг: 1\n",
            "Зашифрованная строка: Dbsqf Ejfn\n",
            "Расшифрованная строка: Carpe Diem\n"
          ]
        }
      ]
    },
    {
      "cell_type": "markdown",
      "source": [
        "КОД DangerMaster"
      ],
      "metadata": {
        "id": "dywLZ8ZwHFFY"
      }
    },
    {
      "cell_type": "code",
      "source": [
        "def input_data():\n",
        "  smeshenie = int(input('Шаг шифровки: '))\n",
        "  message = input('Введите сообщение: ').upper()\n",
        "  return cezar(message, smeshenie)\n",
        "\n",
        "def cezar(message, smeshenie):\n",
        "  alfavit = 'АБВГДЕЁЖЗИЙКЛМНОПРСТУФХЦЧШЩЪЬЭЮЯ'\n",
        "  itog = ''\n",
        "  for i in message:\n",
        "    mesto = alfavit.find(i)\n",
        "    new_mesto = mesto + smeshenie\n",
        "    if i in alfavit:\n",
        "      itog += alfavit[new_mesto]\n",
        "    else:\n",
        "      itog += i\n",
        "  return itog\n",
        "\n",
        "def print_res(res):\n",
        "  if res:\n",
        "    print(res)\n",
        "  else:\n",
        "    print('Что-то пошло не так.')"
      ],
      "metadata": {
        "id": "jBysnkMxEixh"
      },
      "execution_count": null,
      "outputs": []
    },
    {
      "cell_type": "markdown",
      "source": [
        "№14"
      ],
      "metadata": {
        "id": "m4ZWl9stEjf0"
      }
    },
    {
      "cell_type": "code",
      "source": [
        "def split_numbers(*args):\n",
        "  positive = []\n",
        "  negative = []\n",
        "  for x in args:\n",
        "    if x < 0:\n",
        "      negative.append(x)\n",
        "      negative_sort = sorted(negative)\n",
        "      negative_sort.reverse()\n",
        "    else:\n",
        "      positive.append(x)\n",
        "      positive_sort = sorted(positive)\n",
        "  return negative_sort, positive_sort"
      ],
      "metadata": {
        "id": "fk34y-MTEk7X"
      },
      "execution_count": null,
      "outputs": []
    },
    {
      "cell_type": "code",
      "source": [
        "print(split_numbers(1, 4, -5, 0, -33))"
      ],
      "metadata": {
        "id": "ZYeMLizvEnEm",
        "outputId": "3d311afc-42aa-4913-adaf-8a2ccfa4906a",
        "colab": {
          "base_uri": "https://localhost:8080/"
        }
      },
      "execution_count": null,
      "outputs": [
        {
          "output_type": "stream",
          "name": "stdout",
          "text": [
            "([-5, -33], [0, 1, 4])\n"
          ]
        }
      ]
    },
    {
      "cell_type": "markdown",
      "source": [
        "№16"
      ],
      "metadata": {
        "id": "N0L97SUNEqpa"
      }
    },
    {
      "cell_type": "code",
      "source": [
        "def pow1(value,base):\n",
        "  if base == 0:\n",
        "    return 1\n",
        "  else:\n",
        "    return value**base\n",
        "\n",
        "def pow2(value, base):\n",
        "  if base == 0:\n",
        "    return 1\n",
        "  else:\n",
        "    return pow2(value, base-1)*value"
      ],
      "metadata": {
        "id": "UYbHunoCEsJA"
      },
      "execution_count": null,
      "outputs": []
    },
    {
      "cell_type": "code",
      "source": [
        "print(pow1(5,3))\n",
        "print(pow2(5,3))"
      ],
      "metadata": {
        "id": "avPGh1BDHhfU",
        "outputId": "feec7b0e-b38d-4dc9-89fe-41a116c7bfe4",
        "colab": {
          "base_uri": "https://localhost:8080/"
        }
      },
      "execution_count": null,
      "outputs": [
        {
          "output_type": "stream",
          "name": "stdout",
          "text": [
            "125\n",
            "125\n"
          ]
        }
      ]
    },
    {
      "cell_type": "markdown",
      "source": [
        "№17"
      ],
      "metadata": {
        "id": "wcFA60_0Eu0U"
      }
    },
    {
      "cell_type": "code",
      "source": [
        "def digits_sum(value):\n",
        "  if value == 0:\n",
        "    return 0\n",
        "  else:\n",
        "    return (value%10) + digits_sum(value//10) \n",
        "\n",
        "\n",
        "\n",
        "def digits_count(value):\n",
        "  if value == 1:\n",
        "    return 1\n",
        "  else:\n",
        "    return value**0 + digits_count(value//10)"
      ],
      "metadata": {
        "id": "tcxeJZrlEv39"
      },
      "execution_count": null,
      "outputs": []
    },
    {
      "cell_type": "code",
      "source": [
        "print(digits_sum(12345))\n",
        "print(digits_count(12345))"
      ],
      "metadata": {
        "id": "RbDJXyBKExzN",
        "outputId": "9fda3693-1a9e-4057-b7db-d967f7fe3e64",
        "colab": {
          "base_uri": "https://localhost:8080/"
        }
      },
      "execution_count": null,
      "outputs": [
        {
          "output_type": "stream",
          "name": "stdout",
          "text": [
            "15\n",
            "5\n"
          ]
        }
      ]
    }
  ],
  "metadata": {
    "colab": {
      "collapsed_sections": [],
      "toc_visible": true,
      "provenance": [],
      "include_colab_link": true
    },
    "kernelspec": {
      "display_name": "Python 3",
      "name": "python3"
    }
  },
  "nbformat": 4,
  "nbformat_minor": 0
}